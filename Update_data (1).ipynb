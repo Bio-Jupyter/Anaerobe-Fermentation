{
 "cells": [
  {
   "cell_type": "code",
   "execution_count": 1,
   "id": "dd564d50-222f-4082-ac09-4ba7bded6272",
   "metadata": {},
   "outputs": [
    {
     "data": {
      "application/vnd.jupyter.widget-view+json": {
       "model_id": "82b0e977234e4869819026f63380a5e4",
       "version_major": 2,
       "version_minor": 0
      },
      "text/plain": [
       "VBox(children=(HBox(children=(Label(value='Time (mins)', layout=Layout(width='150px')), Label(value='Biomass C…"
      ]
     },
     "metadata": {},
     "output_type": "display_data"
    }
   ],
   "source": [
    "import ipywidgets as widgets\n",
    "from IPython.display import display\n",
    "import pandas as pd\n",
    "\n",
    "# Initialize DataFrame\n",
    "df = pd.DataFrame({\n",
    "    'Time (mins)': range(0, 361, 30),\n",
    "    'Biomass Concentration (g/L)': ['' for _ in range(13)],\n",
    "    'Substrate Concentration (g/L)': ['' for _ in range(13)]\n",
    "})\n",
    "\n",
    "# Create header row\n",
    "header_row = widgets.HBox([\n",
    "    widgets.Label('Time (mins)', layout=widgets.Layout(width='150px')),\n",
    "    widgets.Label('Biomass Concentration (g/L)', layout=widgets.Layout(width='200px')),\n",
    "    widgets.Label('Substrate Concentration (g/L)', layout=widgets.Layout(width='200px'))\n",
    "])\n",
    "\n",
    "# Create a list of Text widgets for biomass and substrate concentrations\n",
    "biomass_widgets = [widgets.Text(layout=widgets.Layout(width='200px')) for _ in df['Time (mins)']]\n",
    "substrate_widgets = [widgets.Text(layout=widgets.Layout(width='200px')) for _ in df['Time (mins)']]\n",
    "\n",
    "# Function to update DataFrame with widget values\n",
    "def update_df(b):\n",
    "    for i in range(len(df)):\n",
    "        df.at[i, 'Biomass Concentration (g/L)'] = biomass_widgets[i].value\n",
    "        df.at[i, 'Substrate Concentration (g/L)'] = substrate_widgets[i].value\n",
    "    # Save to CSV\n",
    "    df.to_csv('lab_data.csv', index=False)\n",
    "\n",
    "# Button to update data\n",
    "update_button = widgets.Button(description=\"Update Data\")\n",
    "update_button.on_click(update_df)\n",
    "\n",
    "# Display widgets with header row\n",
    "display_widgets = [header_row]\n",
    "for i in range(len(df)):\n",
    "    row = widgets.HBox([\n",
    "        widgets.Label(str(df.at[i, 'Time (mins)']), layout=widgets.Layout(width='150px')),\n",
    "        biomass_widgets[i],\n",
    "        substrate_widgets[i]\n",
    "    ])\n",
    "    display_widgets.append(row)\n",
    "display_widgets.append(update_button)\n",
    "display(widgets.VBox(display_widgets))\n"
   ]
  },
  {
   "cell_type": "code",
   "execution_count": null,
   "id": "41caeda6-0eb2-460c-b77d-45525f158c3d",
   "metadata": {},
   "outputs": [],
   "source": []
  }
 ],
 "metadata": {
  "kernelspec": {
   "display_name": "Python 3 (ipykernel)",
   "language": "python",
   "name": "python3"
  },
  "language_info": {
   "codemirror_mode": {
    "name": "ipython",
    "version": 3
   },
   "file_extension": ".py",
   "mimetype": "text/x-python",
   "name": "python",
   "nbconvert_exporter": "python",
   "pygments_lexer": "ipython3",
   "version": "3.11.6"
  }
 },
 "nbformat": 4,
 "nbformat_minor": 5
}
