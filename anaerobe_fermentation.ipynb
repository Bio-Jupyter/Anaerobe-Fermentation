{
 "cells": [
  {
   "cell_type": "markdown",
   "id": "e8342262-3b2f-42e8-bef0-07a2340671ec",
   "metadata": {},
   "source": [
    " <div style=\"background-color:#F0F0F0; padding:10px; text-align:center; box-shadow: 5px 5px 10px #888888; border-radius: 10px;\">\n",
    "    <font color=\"#8AAA79\">\n",
    "        <h1>Praktikum M-Biotechnologie Laborkurs Lebensmittelwissenschaften</h1>\n",
    "    </font>\n",
    "</div>\n"
   ]
  },
  {
   "cell_type": "markdown",
   "id": "5de64306-629d-4a67-b2bb-960aa1b7b2f9",
   "metadata": {},
   "source": [
    "---"
   ]
  },
  {
   "cell_type": "markdown",
   "id": "1c5fae14",
   "metadata": {},
   "source": [
    "#####  <font color=007BFF> Fensterle, Lucassen </font>"
   ]
  },
  {
   "cell_type": "markdown",
   "id": "9ec1b20f-28f3-49d7-a2e9-2fd4cdcb4cfb",
   "metadata": {},
   "source": [
    "#### *<font color=\"#8AAA79\">Anaerobe Fermentation</font>*\n"
   ]
  },
  {
   "cell_type": "markdown",
   "id": "18d32ea2-b002-43a5-8f76-57ee93b3b3fa",
   "metadata": {},
   "source": [
    "##  <font color=FF4500> 1. Generelle Zielsetzung </font>\n"
   ]
  },
  {
   "cell_type": "markdown",
   "id": "762d0ce5-d437-4823-bce4-c263c287e7ce",
   "metadata": {},
   "source": [
    "Ziel ist die Planung, Durchführung und Analyse einer Fermentation mit Hefe und die Analyse der Ethanol\n",
    "und CO2 Produktion in Echtzeit. Die Experimente werden mit unterschiedlichen Glucose Konzentrationen\n",
    "durchgeführt. Das übergeordnete Ziel ist die (kinetische) Analyse des Fermentationsprozesses, daher\n",
    "wird zum Zeitpunkt, an dem die Glucose vollständig verbraucht ist, ein weiteres Mal mit Glucose\n",
    "„gespikt“.  \n"
   ]
  },
  {
   "cell_type": "markdown",
   "id": "0c136715-aece-4e55-83cf-505990f2d88d",
   "metadata": {},
   "source": [
    "##  <font color=FF4500> 2. Voraussetzungen </font>\n"
   ]
  },
  {
   "cell_type": "markdown",
   "id": "ae4a3cd9-9ced-48e6-852f-0ae00aa6ecf2",
   "metadata": {},
   "source": [
    "Sie sollten diese Kurzanleitung gelesen haben.\n",
    "Es wird erwartet, dass sie mithilfe dieser Anleitung selbstständig einen Plan für das Experiment\n",
    "ausarbeiten (Probenahme Zeiten, Probenvolumen, Medienzusammensetzung...). Berücksichtigen Sie das Dokument zu den mikrobiologischen Methoden."
   ]
  },
  {
   "cell_type": "markdown",
   "id": "538e4759-b0fa-4b74-a5e1-b15075daa2c1",
   "metadata": {},
   "source": [
    "##  <font color=FF4500> 3. Herstellung der Nährmedien (Tag 1) </font>\n"
   ]
  },
  {
   "cell_type": "markdown",
   "id": "4704bd3b-e736-41c2-8bbb-aca021ed0c79",
   "metadata": {},
   "source": [
    "Es müssen Flüssigmedien für die Fermentation und die Analytik, sowie Agarplatten für die Verdünnungs‐\n",
    "reihen hergestellt werden. Die Herstellung der Flüssig‐ und Festmedien erfolgt am ersten Labortag."
   ]
  },
  {
   "cell_type": "markdown",
   "id": "39e2934e-189c-4003-a706-2513a9f54db0",
   "metadata": {},
   "source": [
    "**Die genaue Anleitung hierzu ist in den Tabellen am Ende dieses Skriptes zu finden!**"
   ]
  },
  {
   "cell_type": "markdown",
   "id": "b9f6429b-90db-48c4-acb9-0bfde5122b52",
   "metadata": {},
   "source": [
    "##  <font color=FF4500> 4. Fermenter (Tag 2) </font>\n"
   ]
  },
  {
   "cell_type": "markdown",
   "id": "862b51de-6a10-464d-90b4-0c515ade2c0e",
   "metadata": {},
   "source": [
    "###  <font color=E07A5F> 4.1.Vorbereiten der Fermenter</font>\n",
    "\n",
    "Für die Fermentation werden BlueSens Fermenter mit 2 (optional 4) großen Schraubgewinden (GL 45)\n",
    "verwendet.<font color=FF4500> **Achtung: auf den großen Schraubgewinden angebrachte (blaue) Kappen oder Gassensoren\n",
    "müssen zwingend mit Dichtungsringen versehen werden, andernfalls sind die Gefäße nicht gasdicht!** </font>"
   ]
  },
  {
   "cell_type": "markdown",
   "id": "5d2f045e",
   "metadata": {},
   "source": [
    "Jede Fermentation wird mit einem Gesamtvolumen von 500 mL durchgeführt:"
   ]
  },
  {
   "cell_type": "markdown",
   "id": "81547585",
   "metadata": {},
   "source": [
    "<div style=\"border: 2px solid #000000; text-align: center; padding: 10px;\">\n",
    "400 mL YPD Medium + X mL Glucose + Y mL Wasser = 500 mL \n",
    "</div>"
   ]
  },
  {
   "cell_type": "markdown",
   "id": "2a72f34d",
   "metadata": {},
   "source": [
    "#### <font color=E07A5F> 4.1.1. Glucose Anfangskonzentration einstellen (Tag 2) </font>"
   ]
  },
  {
   "cell_type": "markdown",
   "id": "51ac1e71",
   "metadata": {},
   "source": [
    "Jede Gruppe verwendet eine andere Konzentration. Die benötigten Volumenmengen an Glucoselösung\n",
    "(X) müssen vorher berechnet werden. Folgende Mengen (g Glucose!) werden benötigt:\n",
    "    \n",
    "0.3 g, 0.6 g, 1.2 g, 2.5 g, 5.0 g, 10 g (für Gruppe 1, 2, 3, 4, 5, 6 respektive)\n",
    "\n",
    "Die benötigten Mengen an Glucoselösung müssen vorher berechnet und aseptisch dem Reaktorgefäß\n",
    "zugepumpt werden. "
   ]
  },
  {
   "cell_type": "markdown",
   "id": "89ead00a",
   "metadata": {},
   "source": [
    "#### <font color=E07A5F>4.1.2  Reaktorvolumen einstellen (Tag 2)  </font>"
   ]
  },
  {
   "cell_type": "markdown",
   "id": "77a174ba",
   "metadata": {},
   "source": [
    "Nachdem die Glucose dem YPD Medium zugeführt wurde, soll das Volumen auf 500 mL mit sterilem\n",
    "demineralisiertem Wasser eingestellt werden. "
   ]
  },
  {
   "cell_type": "markdown",
   "id": "5405ca82",
   "metadata": {},
   "source": [
    "#### <font color=E07A5F>4.1.3 Inokulation </font>"
   ]
  },
  {
   "cell_type": "markdown",
   "id": "c1a9cc89",
   "metadata": {},
   "source": [
    "Die Fermentation wird mit   20 mL Saccharomyces cerevisiae Suspension beimpft. Die Suspension wird\n",
    "hergestellt indem ein Blöckchen frische Bäckerhefe in 200 mL YPD Medium suspendiert wird.\n",
    "\n",
    "Vor dem Beimpfen, soll <u> eine</u> Gruppe die Gesamtzellzahl bestimmen."
   ]
  },
  {
   "cell_type": "markdown",
   "id": "77f258c2-5708-4b9e-bbd8-6b089f3f8b64",
   "metadata": {},
   "source": [
    "###  <font color=E07A5F> 4.2.Probennahme </font>\n",
    "Zu jedem vorgegebenen Zeitpunkt <u><em>(siehe Tabelle am Ende dieses Skriptes)</em></u> sollen 5 mL der\n",
    "Fermentationsbrühe gezogen und entsprechend analysiert werden.\n"
   ]
  },
  {
   "cell_type": "markdown",
   "id": "9482d24e-2f32-46d4-a875-31033127be49",
   "metadata": {},
   "source": [
    "##  <font color=FF4500> 5. Erforderliche Inhalte des Protokolls </font>\n"
   ]
  },
  {
   "cell_type": "markdown",
   "id": "0f1f3660",
   "metadata": {},
   "source": [
    "Eine Protokollvorlage finden sie auf Moodle, bitte halten sie sich an die vorgegebene Form.\n",
    "Die folgenden Punkte müssen enthalten sein:\n",
    "Vorbemerkung: die Berechnungen sind für die Bereiche vor und nach der Glucosezugabe (Gruppen 1‐5)\n",
    "getrennt durchzuführen. Die maximalen Raten sind entsprechend zu vergleichen.\n",
    "\n",
    "1.) Kurze Einführung (1‐2 Sätze)\n",
    "\n",
    "2.) Bestimmung des Umrechnungsfaktors OD600 &rArr; Biomasse (bitte durchgängig korrekte Einheiten\n",
    "beachten!)\n",
    "\n",
    "2.) Grafische Darstellung der gebildeten Menge in Mol (nicht Bildungsrate!) von CO2 und EtOH basierend\n",
    "auf den Sensordaten vs. Zeit; Grafische Darstellung der gemessenen Gesamt‐, Lebendzellzahlen und\n",
    "Biomasse vs. Zeit\n",
    "\n",
    "2.) Berechnung der maximalen molaren Bildungsraten von CO2 und EtOH (mitteln Sie hierfür die Bildungsraten in einem geeigneten Bereich).\n",
    "\n",
    "3.) Berechnung der maximalen Wachstumsrate anhand der Biomasse\n",
    "\n",
    "4.) Berechnung der molaren Ausbeute von CO2, EtOH (mol / mol Glucose) und Biomasse (g / mol Glucose)\n",
    "\n",
    "5.) Berechnung und Vergleich der „Lead time“ für beide Bereiche.\n",
    "\n",
    "5.) Optional: Aufstellung der stöchiometrischen Summengleichung anhand der gebildeten\n",
    "Gesamtmassen.\n",
    "\n",
    "Für die Auswertung gelten folgenden Annahmen:\n",
    "\n",
    "- die vorhandene Glucose ist vollständig verbraucht, sobald die CO2 Konzentration konstant bleibt\n",
    "- CO2 wird als ideales Gas betrachtet, die Bedingungen als Normbedingungen, somit gilt: Vm = 22,46 L/mol.\n",
    "- Sauerstoffverbrauch wird vernachlässigt, Konzentrationsänderungen von CO2 basierenausschließlich auf der CO2 Bildung\n",
    "- Beachten Sie, dass die Rohdaten Prozentwerte darstellen (müssen also mit 10‐2 korrigiert werden!)\n",
    "- Sowohl das Gasvolumen als auch das Flüssigkeitsvolumen wird unabhängig von Probennahmen als konstant 500 mL betrachtet\n",
    "- Die Dichte der Kulturbrühe wird als konstant 1 g/cm³ betrachtet\n",
    "- Für Ethanol wird die Konzentrationsabhängigkeit des partiellen molaren Volumens vernachlässigt, die Dichte von reinem Ethanol beträgt 0,789 g/mL (somit wiegt näherungsweise das in 100 mL 0,5% Ethanollösung enthaltene reine Ethanol: 100 mL*0,5%*0,789 g/mL = 0,39 g).\n",
    "- Molmassen: H = 1 g/mol, C = 12 g/mol, O = 16 g/mol\n",
    "- Bei den Gruppen, in denen EtOH Bildung nicht erfasst wurde soll die gebildete Menge aus der CO2 Bildung extrapoliert werden. Verwenden Sie hierzu folgende Gleichung:<br>\n",
    "   o Mol EtOH = 0,92 * Mol CO<sub style=\"font-size: 0.6em\">2</sub>\n",
    "    \n",
    "- Die Summenformel von Hefe sei: CH<sub style=\"font-size: 0.6em\">1,83</sub> O <sub style=\"font-size: 0.6em\">0,56</sub>N<sub style=\"font-size: 0.6em\">0,17</sub>\n"
   ]
  },
  {
   "cell_type": "markdown",
   "id": "1ef4d923",
   "metadata": {},
   "source": [
    "##  <font color=FF4500> 6. Anaerobe Fermentation </font>"
   ]
  },
  {
   "cell_type": "markdown",
   "id": "eb885cdf",
   "metadata": {},
   "source": [
    "#### *<font color=\"#8AAA79\">Arbeitsanweisungen für den ersten Labortag (Tab.1‐7)</font>*\n"
   ]
  },
  {
   "cell_type": "markdown",
   "id": "cefeeed8",
   "metadata": {},
   "source": [
    "<font color=\"#0000FF\">*Tabelle 1 - 7 :*</font>\n",
    "<br><b><font color=\"red\">*Siehe pdf*</b></font>"
   ]
  },
  {
   "cell_type": "markdown",
   "id": "697a135e",
   "metadata": {},
   "source": [
    "#### *<font color=\"#8AAA79\">Arbeitsanweisungen für den zweiten Labortag (Tab.8 bis 10)</font>*"
   ]
  },
  {
   "cell_type": "markdown",
   "id": "f3c315b2",
   "metadata": {},
   "source": [
    "<font color=\"#0000FF\">*<font color=\"#0000FF\">*Tabelle 8 - 9 :*</font>*</font>\n",
    "<br><b><font color=\"red\">*Siehe pdf*</b></font>"
   ]
  },
  {
   "cell_type": "markdown",
   "id": "7e7895f3",
   "metadata": {},
   "source": [
    "<font color=\"#0000FF\">*<font color=\"#0000FF\"><b>*Tabelle 10: Durchführung der Fermentation*</b></font>*</font>"
   ]
  },
  {
   "cell_type": "code",
   "execution_count": null,
   "id": "d41df66b",
   "metadata": {},
   "outputs": [],
   "source": [
    "\n",
    "\n",
    "\n",
    "\n",
    "\n",
    "\n",
    "\n"
   ]
  },
  {
   "cell_type": "code",
   "execution_count": null,
   "id": "6ad92730-0f16-4197-8000-654ccb550981",
   "metadata": {},
   "outputs": [],
   "source": []
  }
 ],
 "metadata": {
  "kernelspec": {
   "display_name": "Python 3 (ipykernel)",
   "language": "python",
   "name": "python3"
  },
  "language_info": {
   "codemirror_mode": {
    "name": "ipython",
    "version": 3
   },
   "file_extension": ".py",
   "mimetype": "text/x-python",
   "name": "python",
   "nbconvert_exporter": "python",
   "pygments_lexer": "ipython3",
   "version": "3.11.4"
  }
 },
 "nbformat": 4,
 "nbformat_minor": 5
}
