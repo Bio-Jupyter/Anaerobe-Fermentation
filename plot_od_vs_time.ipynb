{
 "cells": [
  {
   "cell_type": "code",
   "execution_count": 4,
   "id": "d0c27295-ff70-4fbc-913c-72d92f0a667b",
   "metadata": {
    "tags": []
   },
   "outputs": [
    {
     "data": {
      "application/vnd.jupyter.widget-view+json": {
       "model_id": "5166f0562ecf43d9bfd4d3841726fced",
       "version_major": 2,
       "version_minor": 0
      },
      "text/plain": [
       "Button(description='Plot Optical Density vs Time', style=ButtonStyle())"
      ]
     },
     "metadata": {},
     "output_type": "display_data"
    },
    {
     "data": {
      "application/vnd.jupyter.widget-view+json": {
       "model_id": "14a906fa1e3147f69f092c05c166cf4c",
       "version_major": 2,
       "version_minor": 0
      },
      "text/plain": [
       "Output()"
      ]
     },
     "metadata": {},
     "output_type": "display_data"
    }
   ],
   "source": [
    "import matplotlib.pyplot as plt\n",
    "import pandas as pd  # Ensure pandas is imported\n",
    "\n",
    "def plot_graph1():\n",
    "    df = pd.read_csv('lab_data.csv')\n",
    "    plt.figure(figsize=(10, 6))\n",
    "    plt.plot(df['Time (mins)'], pd.to_numeric(df['OD'], errors='coerce'), marker='x')\n",
    "    plt.title('Optical Density vs Time')\n",
    "    plt.xlabel('Time (mins)')\n",
    "    plt.ylabel('Optical Density')\n",
    "    plt.grid(True)\n",
    "    plt.show()\n",
    "\n",
    "from ipywidgets import Button, Output\n",
    "from IPython.display import display\n",
    "\n",
    "button = Button(description=\"Plot Optical Density vs Time\")\n",
    "output1 = Output()\n",
    "\n",
    "def on_button_clicked(b):\n",
    "    with output1:\n",
    "        output1.clear_output()\n",
    "        plot_graph1()  \n",
    "\n",
    "button.on_click(on_button_clicked)\n",
    "display(button, output1)\n"
   ]
  },
  {
   "cell_type": "code",
   "execution_count": null,
   "id": "9ee2de9b-72fe-4b0b-a407-725d206025d8",
   "metadata": {},
   "outputs": [],
   "source": []
  }
 ],
 "metadata": {
  "kernelspec": {
   "display_name": "Python 3 (ipykernel)",
   "language": "python",
   "name": "python3"
  },
  "language_info": {
   "codemirror_mode": {
    "name": "ipython",
    "version": 3
   },
   "file_extension": ".py",
   "mimetype": "text/x-python",
   "name": "python",
   "nbconvert_exporter": "python",
   "pygments_lexer": "ipython3",
   "version": "3.11.4"
  }
 },
 "nbformat": 4,
 "nbformat_minor": 5
}
