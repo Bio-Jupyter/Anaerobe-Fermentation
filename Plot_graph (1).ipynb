{
 "cells": [
  {
   "cell_type": "code",
   "execution_count": 1,
   "id": "72885223-9104-4e5e-aef8-9aae75bdbd28",
   "metadata": {},
   "outputs": [],
   "source": [
    "import matplotlib.pyplot as plt\n",
    "\n",
    "def plot_graph(df):\n",
    "    df = pd.read_csv('lab_data.csv')\n",
    "    # existing plotting code follows\n",
    "    plt.figure(figsize=(10, 6))\n",
    "    plt.plot(df['Time (mins)'], pd.to_numeric(df['Biomass Concentration (g/L)'], errors='coerce'), marker='o')\n",
    "    plt.title('Biomass Concentration vs Time')\n",
    "    plt.xlabel('Time (mins)')\n",
    "    plt.ylabel('Biomass Concentration (g/L)')\n",
    "    plt.grid(True)\n",
    "    plt.show()\n",
    "\n"
   ]
  },
  {
   "cell_type": "code",
   "execution_count": 2,
   "id": "6a30a02e-b102-4c03-98a3-777616ca75b5",
   "metadata": {},
   "outputs": [
    {
     "data": {
      "application/vnd.jupyter.widget-view+json": {
       "model_id": "f21469088e0e49dd9d24aad7a26111a2",
       "version_major": 2,
       "version_minor": 0
      },
      "text/plain": [
       "Button(description='Plot Graph', style=ButtonStyle())"
      ]
     },
     "metadata": {},
     "output_type": "display_data"
    },
    {
     "data": {
      "application/vnd.jupyter.widget-view+json": {
       "model_id": "b59b434654e7431f8b343d74f32c0370",
       "version_major": 2,
       "version_minor": 0
      },
      "text/plain": [
       "Output()"
      ]
     },
     "metadata": {},
     "output_type": "display_data"
    }
   ],
   "source": [
    "from ipywidgets import Button, Output\n",
    "from IPython.display import display\n",
    "\n",
    "button = Button(description=\"Plot Graph\")\n",
    "output = Output()\n",
    "\n",
    "def on_button_clicked(b):\n",
    "    with output:\n",
    "        output.clear_output()\n",
    "        plot_graph(df)  # Call your function here\n",
    "\n",
    "button.on_click(on_button_clicked)\n",
    "display(button, output)\n"
   ]
  },
  {
   "cell_type": "code",
   "execution_count": null,
   "id": "95849a11-82f9-4642-b799-31b57b344466",
   "metadata": {},
   "outputs": [],
   "source": []
  }
 ],
 "metadata": {
  "kernelspec": {
   "display_name": "Python 3 (ipykernel)",
   "language": "python",
   "name": "python3"
  },
  "language_info": {
   "codemirror_mode": {
    "name": "ipython",
    "version": 3
   },
   "file_extension": ".py",
   "mimetype": "text/x-python",
   "name": "python",
   "nbconvert_exporter": "python",
   "pygments_lexer": "ipython3",
   "version": "3.11.6"
  }
 },
 "nbformat": 4,
 "nbformat_minor": 5
}
